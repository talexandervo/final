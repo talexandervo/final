{
 "cells": [
  {
   "cell_type": "code",
   "execution_count": 263,
   "id": "4a52f9b8-e368-4af3-973c-bb78385e4526",
   "metadata": {},
   "outputs": [],
   "source": [
    "import numpy as np\n",
    "import pandas as pd\n",
    "import seaborn as sns\n",
    "import cv2 as cv\n",
    "import matplotlib.pyplot as plt\n",
    "import os\n",
    "import math\n",
    "from sklearn.decomposition import PCA, NMF\n",
    "from sklearn.cluster import KMeans, AgglomerativeClustering, DBSCAN\n",
    "from sklearn.metrics import confusion_matrix, accuracy_score, precision_score, recall_score\n",
    "from sklearn.metrics.pairwise import cosine_similarity\n",
    "from sklearn.ensemble import RandomForestClassifier\n",
    "import time\n",
    "import itertools\n",
    "import random"
   ]
  },
  {
   "cell_type": "markdown",
   "id": "c884b0a4-cd1d-4d18-9893-5775e20a45d4",
   "metadata": {},
   "source": [
    "# DTSA-5510: Unsupervised Learning Final Project\n",
    "\n",
    "## Pneumonia Classification with Computer Vision\n",
    "\n",
    "### Tom Vo 06/13/2023\n",
    "\n",
    "For my final project I wanted to expand my computer vision repetoir. Last term in supervised learning I did rice image classification from a very clean dataset with very standardized file names. I want to practice using the os.listdir() to programatically clean messy file names.\n",
    "\n",
    "The data I will use can be found at [Mendeley Data](https://data.mendeley.com/datasets/rscbjbr9sj/3). The data contain images of both chest X-Rays and Optical Coherence Tomography. I will use the chest X-rays in this project, but I think in another project I'll use the OCT data. \n",
    "\n",
    "Here's my general plan of attack:\n",
    "\n",
    "1) Import and clean the data. I'll use PCA to reduce the image sizes for modelling purposes.\n",
    "\n",
    "2) Perform an EDA. I'll do this on the untransformed data for human comprehensibility. I will allow the user to pick a feature to analyze!\n",
    "\n",
    "3) Build unsupervised models. I'll use sklearn's library for two models: NMF, and KMeans. \n",
    "\n",
    "4) Compare against a supervised model. Because I wich to do this, I will be careful during data importation so that I can easily transition to a Random Forest.\n",
    "\n",
    "## (1) Import and Clean the Data\n",
    "\n",
    "First thing's first, I'll set my working directory to contain the pnuemonia images. Please adapt this line to work on your build."
   ]
  },
  {
   "cell_type": "code",
   "execution_count": 169,
   "id": "aeee7f2a-c175-4cd1-bf6a-ddc256ef0b26",
   "metadata": {},
   "outputs": [
    {
     "name": "stdout",
     "output_type": "stream",
     "text": [
      "C:\\Users\\first\\Desktop\\DTSA_5510_HW\\Final_Project\\data\\chest_xray\n"
     ]
    },
    {
     "data": {
      "text/plain": [
       "['reducedData.csv', 'test', 'train']"
      ]
     },
     "execution_count": 169,
     "metadata": {},
     "output_type": "execute_result"
    }
   ],
   "source": [
    "%cd \"C:/Users/first/Desktop/DTSA_5510_HW/Final_Project/data/chest_xray\"\n",
    "\n",
    "os.listdir()"
   ]
  },
  {
   "cell_type": "markdown",
   "id": "e6f8c493-112a-420d-8d9b-0ef846509ca0",
   "metadata": {},
   "source": [
    "#### Initial Data Inspections:\n",
    "\n",
    "The chest X-ray data in \"train\" contains 1.18 GB of data - consisting of 5233 \"normal\" chest X-rays, 1345 X-rays with viral pnuemonia, and 2538 X-rays with bacterial pnuemonia. The \"test\" data contains 105 MB of data - there are 235 \"normal\" chest X-rays, 626 with viral pnuemonia, and 242 with bacterial pnuemonia. In the cell directly below I read in a single image and have python display it (if the data are properly located). As is shown by the output of that cell, each image is read in as a (2476, 2572) numpy array. There is a whole lot of data, so that loading will take a long time. If you don't want to wait that long, I include an option \"pixDesired\" in the loading function to allow lower accuracy in exchange for faster loads and trains.\n",
    "\n",
    "**Important cleaning note:** not all of the images are the same dimension. As such please use the pixDesired option to standardize the images to a square of user defined shape. Ensure that this square is larger than the minimum pixel count. The auto selection of 1000 pixels per side does this if you don't want to do any cleaning yourself."
   ]
  },
  {
   "cell_type": "markdown",
   "id": "9a1a6239-5f85-48d9-b4a2-e4e6a68757d3",
   "metadata": {},
   "source": [
    "I will now build a function to load in the test and train data. I will then convert these to numpy arrays and perform a join. The image processing library I will use is cv2. I will keep track of the indecies for the training and test data, as well as the labels. The first \"section\" loaded in will be Normal Train, then Viral Train, then Bacterial Train, then Normal Test, then Viral Test, and finally Bacterial Test. For the supervised learning approach at the end I will use the indecies to assign labels.\n",
    "\n",
    "**Important cleaning note:** the bacterial and viral infections are initially in the same folder, so I will make a new folder called \"BACTERIAL\" and \"VIRAL\" that contain those infections for labelling and diversification purposes. I do this in both the training and testing data. While it would probably suffice to randomly sample from the \"PNUEMONIA\" folder that existed, it would be difficult to reconstruct the labels (we would need to use the file name, and that's pretty dicey)."
   ]
  },
  {
   "cell_type": "code",
   "execution_count": 3,
   "id": "9b06127d-fb94-4426-a789-6baf3d757da3",
   "metadata": {},
   "outputs": [
    {
     "name": "stdout",
     "output_type": "stream",
     "text": [
      "(2476, 2572)\n",
      "0.12372922897338867\n"
     ]
    }
   ],
   "source": [
    "# Example XRay. Citation https://www.geeksforgeeks.org/python-opencv-cv2-imshow-method/\n",
    "# Set file path\n",
    "startTime = time.time()\n",
    "repopath = \"./train/\" + \"NORMAL/\"\n",
    "filepath = repopath + os.listdir(repopath)[0]\n",
    "\n",
    "#Read in test image\n",
    "testpic = cv.imread(filepath, 0)\n",
    "#testpic = cv.resize(testpic, (256, 256))\n",
    "\n",
    "endTime = time.time()\n",
    "\n",
    "##Show test image\n",
    "#testWindow = \"Example XRAY. This is a healthy lung.\"\n",
    "#cv.imshow(testWindow, testpic)\n",
    "#cv.waitKey(0)  #Wait for the user to press a key before closing the window\n",
    "#cv.destroyAllWindows() \n",
    "\n",
    "print(testpic.shape)\n",
    "print(endTime - startTime)"
   ]
  },
  {
   "cell_type": "code",
   "execution_count": 4,
   "id": "577b4ea5-9681-462e-b58d-fa7aee5de989",
   "metadata": {},
   "outputs": [],
   "source": [
    "# Function to read a file into numpy.\n",
    "def readXRay(path, pixDesired = 1000, n_imgs = \"use all\"):\n",
    "    \"\"\"\n",
    "        input: string path, of form (\"./data/ os.listdir(parent directory)\n",
    "        input: int pixDesired, the number of pixels pixDesired X pixDesired in which to read the data. If None, no transformation is performed.\n",
    "        input: int n_imgs, number of images to be read from file. Preset is string \"use all\", which uses all the images in the provided path.\n",
    "        output: np.ndarray data\n",
    "    \"\"\"\n",
    "    \n",
    "    # Initialize data\n",
    "    firstImagePath = path + os.listdir(path)[0]\n",
    "    firstPic = cv.imread(firstImagePath, 0)\n",
    "    if pixDesired != None:\n",
    "        data = cv.resize(firstPic, (pixDesired, pixDesired))\n",
    "        data = data.reshape(1, pixDesired ** 2)# If performance allows, increase resize!\n",
    "    else:\n",
    "        data = data.reshape(1, firstPic.shape[0] * firstPic.shape[1])\n",
    "    \n",
    "    # Populate data\n",
    "    \n",
    "    if n_imgs == \"use all\":\n",
    "        for img in os.listdir(path)[1:]:\n",
    "            filepath = path + img\n",
    "            pic = cv.imread(filepath, 0)\n",
    "            if pixDesired != None:\n",
    "                pic = cv.resize(pic, (pixDesired, pixDesired))\n",
    "                pic = pic.reshape(1, pixDesired ** 2)\n",
    "            else:\n",
    "                pic = pic.reshape(1, pic.shape[0] * pic.shape[1])\n",
    "            \n",
    "            data = np.append(data, pic, axis = 0)\n",
    "            \n",
    "    else:\n",
    "        for img in os.listdir(path)[1:n_imgs]:\n",
    "            filepath = path + img\n",
    "            pic = cv.imread(filepath, 0)\n",
    "            if pixDesired != None:\n",
    "                pic = cv.resize(pic, (pixDesired, pixDesired)) # If performance allows, increase resize!\n",
    "                pic = pic.reshape(1, pixDesired ** 2)\n",
    "            else:\n",
    "                pic = pic.reshape(1, pic.shape[0] * pic.shape[1])\n",
    "            \n",
    "            data = np.append(data, pic, axis = 0)\n",
    "        \n",
    "    return(data)"
   ]
  },
  {
   "cell_type": "code",
   "execution_count": 5,
   "id": "0ab340fa-5769-48ce-b572-16296f0c53e8",
   "metadata": {},
   "outputs": [
    {
     "name": "stdout",
     "output_type": "stream",
     "text": [
      "27.264589309692383\n",
      "(1349, 10000)\n",
      "13.998448610305786\n",
      "(1345, 10000)\n",
      "29.164000034332275\n",
      "(2538, 10000)\n",
      "3.592069387435913\n",
      "(234, 10000)\n",
      "1.2073240280151367\n",
      "(148, 10000)\n",
      "1.703300952911377\n",
      "(242, 10000)\n",
      "76.97756552696228\n",
      "(5856, 10000)\n"
     ]
    }
   ],
   "source": [
    "# Set up paths of repositories to read data from\n",
    "paths = [\"./train/NORMAL/\", \"./train/VIRAL/\", \"./train/BACTERIAL/\", \"./test/NORMAL/\", \"./test/VIRAL/\", \"./test/BACTERIAL/\"]\n",
    "\n",
    "#Initialize data\n",
    "firststartTime = time.time()\n",
    "data = readXRay(path = paths[0], pixDesired = 100, n_imgs = \"use all\")\n",
    "firstendTime = time.time()\n",
    "print(firstendTime - firststartTime) #How long did this repo take to convert?\n",
    "print(data.shape) #How many files in this repo?\n",
    "\n",
    "#Populate data with the other repositories\n",
    "for path in paths[1:]:\n",
    "    startTime = time.time()\n",
    "    this_data = readXRay(path = path, pixDesired = 100, n_imgs = \"use all\")\n",
    "    endTime = time.time()\n",
    "\n",
    "    print(endTime - startTime) #How long did this repo take to convert?\n",
    "    print(this_data.shape) #How many files in this repo?\n",
    "    data = np.append(data, this_data, axis = 0)\n",
    "\n",
    "print(endTime - firststartTime)\n",
    "print(data.shape)"
   ]
  },
  {
   "cell_type": "code",
   "execution_count": 42,
   "id": "75e66b9e-aa6f-4d17-bfc4-c1d065798061",
   "metadata": {},
   "outputs": [
    {
     "name": "stdout",
     "output_type": "stream",
     "text": [
      "(5856,)\n"
     ]
    }
   ],
   "source": [
    "# Records 3 class labels in np.ndarray\n",
    "Normal1 = np.asarray([\"NORMAL\" for i in range(1349)])\n",
    "Viral1 = np.asarray([\"VIRAL\" for i in range(1345)])\n",
    "Bacterial1 = np.asarray([\"BACTERIAL\" for i in range(2538)])\n",
    "Normal2 = np.asarray([\"NORMAL\" for i in range(234)])\n",
    "Viral2 = np.asarray([\"VIRAL\" for i in range(148)])\n",
    "Bacterial2 = np.asarray([\"BACTERIAL\" for i in range(242)])\n",
    "labs = np.append(Normal1, Viral1, axis = 0)\n",
    "labs = np.append(labs, Bacterial1, axis = 0)\n",
    "labs = np.append(labs, Normal2, axis = 0)\n",
    "labs = np.append(labs, Viral2, axis = 0)\n",
    "labs = np.append(labs, Bacterial2, axis = 0)\n",
    "\n",
    "assert labs.shape[0] == data.shape[0]\n",
    "\n",
    "print(labs.shape)"
   ]
  },
  {
   "cell_type": "code",
   "execution_count": 45,
   "id": "278c536e-2cb3-4486-8771-7072df764e76",
   "metadata": {},
   "outputs": [
    {
     "name": "stdout",
     "output_type": "stream",
     "text": [
      "(5856,)\n"
     ]
    }
   ],
   "source": [
    "# Records 2 class labels in np.ndarray\n",
    "Infected1 = np.asarray([\"INFECTED\" for i in range(1345 + 2538)])\n",
    "Infected2 = np.asarray([\"INFECTED\" for i in range(148 + 242)])\n",
    "\n",
    "labs2 = np.append(Normal1, Infected1, axis = 0)\n",
    "labs2 = np.append(labs2, Normal2, axis = 0)\n",
    "labs2 = np.append(labs2, Infected2, axis = 0)\n",
    "\n",
    "assert labs2.shape[0] == data.shape[0]\n",
    "\n",
    "print(labs2.shape)"
   ]
  },
  {
   "cell_type": "markdown",
   "id": "4f492d26-7ed9-4ac4-8bcc-693bc604efb0",
   "metadata": {},
   "source": [
    "Using pixDesired = 100 resulted in a total data reading time of 54 seconds. Using pixDesired = 500 resulted in a total time of 543 seconds, which is almost an order of magnitude increase on the dot.  An interesting project would be measuring accuracy vs. pixDesired over perhaps an order of magnitude of pixDesired. With the 500 pixDesired, we need an extra 10 GB of RAM to run the NMF, which is way too much. I'll stick with pixDesired = 100 for this project. Note that this will severly damage accuracy.\n",
    "\n",
    "#### Perform PCA to reduce data to managable size"
   ]
  },
  {
   "cell_type": "code",
   "execution_count": 8,
   "id": "2512950e-4d2f-49f8-a107-bbf06b4b5935",
   "metadata": {},
   "outputs": [
    {
     "name": "stdout",
     "output_type": "stream",
     "text": [
      "93.30349373817444\n",
      "(5856, 1533)\n"
     ]
    }
   ],
   "source": [
    "#Perform PCA. We will use a minimum explained variance of 0.98 so as to prevent inhibiting our models from successfully categorizing the X-Rays\n",
    "min_var_explained = 0.98\n",
    "pca = PCA(n_components = min_var_explained, svd_solver = \"full\")\n",
    "\n",
    "startTime = time.time()\n",
    "reducedData = pca.fit_transform(data)\n",
    "endTime = time.time()\n",
    "\n",
    "# Print result summary\n",
    "print(endTime - startTime)\n",
    "print(reducedData.shape)"
   ]
  },
  {
   "cell_type": "code",
   "execution_count": 9,
   "id": "1f4e8406-4534-4b78-ada2-a039af8cd1b3",
   "metadata": {},
   "outputs": [
    {
     "name": "stdout",
     "output_type": "stream",
     "text": [
      "7.385784864425659\n"
     ]
    }
   ],
   "source": [
    "#Write the resulting data to a csv so that we don't need to process it again in future analysis\n",
    "startTime = time.time()\n",
    "np.savetxt(\"reducedData.csv\", reducedData, delimiter=\",\")\n",
    "endTime = time.time()\n",
    "print(endTime - startTime)"
   ]
  },
  {
   "cell_type": "markdown",
   "id": "d246a846-9934-4bf0-99ff-e53f273afb5b",
   "metadata": {},
   "source": [
    "# (2) Perform EDA\n",
    "\n",
    "The features of the individual data are individual pixels read in greyscale. The values thus range from 0 to 255 ($2^8$ brightness options). I will have python make histograms of the max, min, and mean values for each feature in the original dataset. I will also plot the standard deviations."
   ]
  },
  {
   "cell_type": "code",
   "execution_count": 14,
   "id": "493083c4-a931-4dd7-87de-e2fcc322f321",
   "metadata": {},
   "outputs": [
    {
     "data": {
      "image/png": "[encoded data removed]",
      "text/plain": [
       "<Figure size 432x288 with 1 Axes>"
      ]
     },
     "metadata": {
      "needs_background": "light"
     },
     "output_type": "display_data"
    }
   ],
   "source": [
    "# Make histogram of max values\n",
    "maxes = list(np.max(data, axis = 1))\n",
    "plt.hist(maxes)\n",
    "plt.xlabel(\"Maximum brightness of pixel\")\n",
    "plt.ylabel(\"Number of images\")\n",
    "plt.title(\"Histogram of Maximum Pixel Brightness over All Images\")\n",
    "plt.show()"
   ]
  },
  {
   "cell_type": "code",
   "execution_count": 15,
   "id": "4778ce02-327c-4529-a4bf-0bb02ed6033a",
   "metadata": {},
   "outputs": [
    {
     "data": {
      "image/png": "[encoded data removed]",
      "text/plain": [
       "<Figure size 432x288 with 1 Axes>"
      ]
     },
     "metadata": {
      "needs_background": "light"
     },
     "output_type": "display_data"
    }
   ],
   "source": [
    "mins = np.min(data, axis = 1)\n",
    "plt.hist(mins)\n",
    "plt.xlabel(\"Minimum brightness of pixel\")\n",
    "plt.ylabel(\"Number of images\")\n",
    "plt.title(\"Histogram of Minimum Pixel Brightness over All Images\")\n",
    "plt.show()"
   ]
  },
  {
   "cell_type": "code",
   "execution_count": 16,
   "id": "6b2164bd-a911-418e-bae5-00837b19b388",
   "metadata": {},
   "outputs": [
    {
     "data": {
      "image/png": "[encoded data removed]",
      "text/plain": [
       "<Figure size 432x288 with 1 Axes>"
      ]
     },
     "metadata": {
      "needs_background": "light"
     },
     "output_type": "display_data"
    }
   ],
   "source": [
    "means = np.mean(data, axis = 1)\n",
    "plt.hist(means)\n",
    "plt.xlabel(\"Mean brightness of pixel\")\n",
    "plt.ylabel(\"Number of images\")\n",
    "plt.title(\"Histogram of Mean Pixel Brightness over All Images\")\n",
    "plt.show()"
   ]
  },
  {
   "cell_type": "code",
   "execution_count": 17,
   "id": "03824366-a31f-44ce-8897-a51ed3be0b23",
   "metadata": {},
   "outputs": [
    {
     "data": {
      "image/png": "[encoded data removed]",
      "text/plain": [
       "<Figure size 432x288 with 1 Axes>"
      ]
     },
     "metadata": {
      "needs_background": "light"
     },
     "output_type": "display_data"
    }
   ],
   "source": [
    "stds = np.std(data, axis = 1)\n",
    "plt.hist(stds)\n",
    "plt.xlabel(\"Standard deviation in brightness of pixel\")\n",
    "plt.ylabel(\"Number of images\")\n",
    "plt.title(\"Histogram of Standard Deviation of Pixel Brightness over All Images\")\n",
    "plt.show()"
   ]
  },
  {
   "cell_type": "markdown",
   "id": "ec6ab772-47ce-4a34-84de-a6806a8acba6",
   "metadata": {},
   "source": [
    "While I would like to create a correlation matrix, there are $10000$ pixels per image, and about $5000$ images. The construction of a correlation matrix would include the comparison of *every single pixel with every other pixel*. That's $(10^4 \\times 5 \\times 10^3)^2$ comparisons, resulting in a the order of  $5 \\times 10^{49}$ operations. That's approaching the number of particles in the solar system. One correlation calcualation takes my computer $10^{-3}$ seconds. Over $5000^2$ calculations a full correlation calculation would take about $7$ hours. Clearly we can't do that. Instead, I'll allow the user to calculate the correlation between any two pixels **of their choice**."
   ]
  },
  {
   "cell_type": "code",
   "execution_count": 18,
   "id": "e1ad6ef6-4b35-41bf-aba2-b6ebc0fd0828",
   "metadata": {},
   "outputs": [
    {
     "name": "stdout",
     "output_type": "stream",
     "text": [
      "0.01801586151123047\n",
      "0.47032254948509544\n"
     ]
    }
   ],
   "source": [
    "# Make function to allow user to determine correlation between two features\n",
    "def getCorr(data, pix1, pix2):\n",
    "    \"\"\"\n",
    "        input: np.ndarray data\n",
    "        input: int pix1\n",
    "        input: int pix2\n",
    "    \"\"\"\n",
    "    # Build an (n, 2) np.ndarray to hold observations of pix1 and pix2\n",
    "    pix1vals = data[:, pix1]\n",
    "    pix1vals = pix1vals.reshape((pix1vals.shape[0], 1))\n",
    "    pix2vals = data[:, pix2].reshape((pix1vals.shape[0], 1))\n",
    "    corrdata = np.append(pix1vals, pix2vals, axis = 1)\n",
    "    #Calculate correlation\n",
    "    corr = np.corrcoef(corrdata, rowvar = False)[0, 1]\n",
    "    return(corr)\n",
    "\n",
    "startTime = time.time()\n",
    "testCorr = getCorr(data, 12, 1223)\n",
    "endTime = time.time()\n",
    "print(endTime - startTime)\n",
    "print(testCorr)"
   ]
  },
  {
   "cell_type": "markdown",
   "id": "8d7700b5-2ea5-4e1d-80b0-40b8feb413f3",
   "metadata": {},
   "source": [
    "### A little EDA on the reduced data\n",
    "\n",
    "After performing PCA on the image data, the new features are coordinates in the new dimensions where we use the eigenvectors of the principal components as basis vectors. As such they lose human comprehensibility. I will print out the histograms of min, max, mean, and standard deviation, but do note they don't have easy translations in the new space. Also feel free to play with the getCorr() function on the reduced data - it will still work! Just swap out data for reducedData."
   ]
  },
  {
   "cell_type": "code",
   "execution_count": 19,
   "id": "30fb7266-17a9-4a30-bef5-ee8a169d66e5",
   "metadata": {},
   "outputs": [
    {
     "data": {
      "image/png": "[encoded data removed]",
      "text/plain": [
       "<Figure size 432x288 with 1 Axes>"
      ]
     },
     "metadata": {
      "needs_background": "light"
     },
     "output_type": "display_data"
    }
   ],
   "source": [
    "# Make histogram of max values\n",
    "maxes = list(np.max(reducedData, axis = 1))\n",
    "plt.hist(maxes)\n",
    "plt.xlabel(\"Maximum coordinate in dimension\")\n",
    "plt.ylabel(\"Number of images\")\n",
    "plt.title(\"Histogram of Maximum Coordinate over All Images\")\n",
    "plt.show()"
   ]
  },
  {
   "cell_type": "code",
   "execution_count": 20,
   "id": "b6b67551-0827-4a97-8edc-07fcd5b6c6f6",
   "metadata": {},
   "outputs": [
    {
     "data": {
      "image/png": "[encoded data removed]",
      "text/plain": [
       "<Figure size 432x288 with 1 Axes>"
      ]
     },
     "metadata": {
      "needs_background": "light"
     },
     "output_type": "display_data"
    }
   ],
   "source": [
    "# Make histogram of min values\n",
    "mins = np.min(reducedData, axis = 1)\n",
    "plt.hist(mins)\n",
    "plt.xlabel(\"Minimum coordinate in dimension\")\n",
    "plt.ylabel(\"Number of images\")\n",
    "plt.title(\"Histogram of Minimum Coordinate over All Images\")\n",
    "plt.show()"
   ]
  },
  {
   "cell_type": "code",
   "execution_count": 21,
   "id": "b4429b7b-749f-4689-a414-953ddd3d3ee3",
   "metadata": {},
   "outputs": [
    {
     "data": {
      "image/png": "[encoded data removed]",
      "text/plain": [
       "<Figure size 432x288 with 1 Axes>"
      ]
     },
     "metadata": {
      "needs_background": "light"
     },
     "output_type": "display_data"
    }
   ],
   "source": [
    "# Make histogram of min values\n",
    "means = np.mean(reducedData, axis = 1)\n",
    "plt.hist(means)\n",
    "plt.xlabel(\"Mean coordinate in dimension\")\n",
    "plt.ylabel(\"Number of images\")\n",
    "plt.title(\"Histogram of Mean Coordinate over All Images\")\n",
    "plt.show()"
   ]
  },
  {
   "cell_type": "code",
   "execution_count": 22,
   "id": "0da1fce8-06fd-4d10-9792-b2f680c09062",
   "metadata": {},
   "outputs": [
    {
     "data": {
      "image/png": "[encoded data removed]",
      "text/plain": [
       "<Figure size 432x288 with 1 Axes>"
      ]
     },
     "metadata": {
      "needs_background": "light"
     },
     "output_type": "display_data"
    }
   ],
   "source": [
    "# Make histogram of standard deviations\n",
    "# Make histogram of min values\n",
    "stds = np.std(reducedData, axis = 1)\n",
    "plt.hist(stds)\n",
    "plt.xlabel(\"Standard deviation of coordinate in dimension\")\n",
    "plt.ylabel(\"Number of images\")\n",
    "plt.title(\"Histogram of Standard Deviation of Coordinates over All Images\")\n",
    "plt.show()"
   ]
  },
  {
   "cell_type": "markdown",
   "id": "ec30141b-f5c5-4304-8300-d802fc237ecb",
   "metadata": {},
   "source": [
    "# (3) Make Unsupervised Models\n",
    "\n",
    "## NMF:\n",
    "\n",
    "NMF is a great first attack at categorizing the data, because there are no missing values in the rectangular data matrix. Unfortunately the reducedData has negative values as can be seen in the EDA, so we must use NMF on the original dataset. This model will probably take the longest to train because we have the most features. It also has the best chance of being accurate, because we aren't limiting the explained variance to 0.98. I'll do an SVD on the reducedData afterwards and compare against the NMF. I will use n_components = 3 for all my unsupervised models, representing Normal, Viral, and Bacterial chest X-Rays. I will do a couple hyperparameter choices, and compare models by classification accuracy / recall / precision.\n",
    "\n",
    "#### L2 Loss: 3 categories"
   ]
  },
  {
   "cell_type": "code",
   "execution_count": 69,
   "id": "d97db58f-90db-4a5f-a6dd-bbd195a9fffc",
   "metadata": {},
   "outputs": [],
   "source": [
    "# Finalize predictions from NMF.fit_transform()\n",
    "def finalizePredictions(W):\n",
    "    \"\"\"\n",
    "        input: numpy.ndarray W (e.g. output of NMF.fit_transform())\n",
    "        output: numpy.ndarray predictions\n",
    "    \"\"\"\n",
    "    predictions = np.zeros(shape = (W.shape[0]))\n",
    "    n_rows = W.shape[0]\n",
    "    n_cols = W.shape[1]\n",
    "    \n",
    "    for i in range(n_rows):\n",
    "        current_best = (None, 0) # current_best is of form (column number, highest weight)\n",
    "        for j in range(n_cols):\n",
    "            if W[i, j] > current_best[1]:\n",
    "                current_best = (j, W[i, j])\n",
    "        \n",
    "        if current_best[0] == None:\n",
    "            print(\"Something bad happened\")\n",
    "            \n",
    "        predictions[i] = current_best[0]\n",
    "    \n",
    "    return(predictions.astype(int))\n",
    "\n",
    "# Create label reconstructor using a best subset algorithm\n",
    "def reconstructLabels(pred, trueLabs):\n",
    "    \"\"\"\n",
    "        input: np.ndarray pred of shape (n_images, )\n",
    "        input np.ndarray trueLabs of shape (n_images, )\n",
    "        output: np.ndarray yhat of shape (n_images, )\n",
    "    \"\"\"\n",
    "    n = pred.shape[0]\n",
    "    categories = list(np.unique(trueLabs))\n",
    "    permutations = list(itertools.permutations(categories))\n",
    "    \n",
    "    currentBest = (None, float(\"inf\"))\n",
    "    \n",
    "    for subset in permutations:\n",
    "        n_misclassified = 0\n",
    "        for i in range(n):\n",
    "            if subset[int(pred[i])] != trueLabs[i]:\n",
    "                n_misclassified = n_misclassified + 1\n",
    "        if n_misclassified < currentBest[1]:\n",
    "            currentBest = (subset, n_misclassified)\n",
    "    \n",
    "    return(currentBest)"
   ]
  },
  {
   "cell_type": "code",
   "execution_count": 50,
   "id": "fc22f47f-e70d-421c-b2f1-b4dd34aedfd0",
   "metadata": {},
   "outputs": [
    {
     "name": "stderr",
     "output_type": "stream",
     "text": [
      "C:\\Users\\first\\anaconda3\\lib\\site-packages\\sklearn\\decomposition\\_nmf.py:1090: ConvergenceWarning: Maximum number of iterations 1000 reached. Increase it to improve convergence.\n",
      "  warnings.warn(\"Maximum number of iterations %d reached. Increase it to\"\n"
     ]
    },
    {
     "name": "stdout",
     "output_type": "stream",
     "text": [
      "49.66877460479736\n"
     ]
    }
   ],
   "source": [
    "# Create NMF model on originals data. I will compare a few hyperparameter choices.\n",
    "nmf_model_1 = NMF(n_components = 3, beta_loss = \"frobenius\", init = 'nndsvd', solver = \"cd\", max_iter = 1000)\n",
    "startTime = time.time()\n",
    "W_1 = nmf_model_1.fit_transform(data)\n",
    "endTime = time.time()\n",
    "print(endTime - startTime)"
   ]
  },
  {
   "cell_type": "code",
   "execution_count": 170,
   "id": "4ff16a7b-a978-470b-bfd5-154c61a22b98",
   "metadata": {},
   "outputs": [],
   "source": [
    "# Convert predictions into a form that sklearn will accept\n",
    "yhat1 = finalizePredictions(W_1)\n",
    "categoryNames = reconstructLabels(yhat1, labs)\n",
    "\n",
    "newlabs = list()\n",
    "labelDictionary = {\n",
    "    categoryNames[0][0] : 0,\n",
    "    categoryNames[0][1] : 1,\n",
    "    categoryNames[0][2] : 2\n",
    "}\n",
    "for label in labs:\n",
    "    this_newlab = labelDictionary[label]\n",
    "    newlabs.append(this_newlab)\n",
    "newlabs = np.asarray(newlabs)"
   ]
  },
  {
   "cell_type": "code",
   "execution_count": 171,
   "id": "84db1319-1b1f-47ab-8d82-790f4ed2111a",
   "metadata": {},
   "outputs": [
    {
     "name": "stdout",
     "output_type": "stream",
     "text": [
      "[[1793   52  935]\n",
      " [1126  350  107]\n",
      " [1138   67  288]]\n"
     ]
    }
   ],
   "source": [
    "# Print out confusion matrix\n",
    "print(confusion_matrix(y_true = newlabs, y_pred = yhat1))"
   ]
  },
  {
   "cell_type": "code",
   "execution_count": 172,
   "id": "440fd0c4-3979-4e49-bc98-f304fe97393d",
   "metadata": {},
   "outputs": [
    {
     "name": "stdout",
     "output_type": "stream",
     "text": [
      "The L2 NMF with 3 categories had accuracy: 0.415129781420765\n",
      "The L2 NMF with 3 categories had weighted average precision: 0.4667463436674939\n",
      "The L2 NMF with 3 categories had weighted average recall: 0.415129781420765\n"
     ]
    }
   ],
   "source": [
    "# Compute accuracy, precision, and recall\n",
    "print(\"The L2 NMF with 3 categories had accuracy:\" , accuracy_score(y_true = newlabs, y_pred = yhat1))\n",
    "print(\"The L2 NMF with 3 categories had weighted average precision:\", precision_score(y_true = newlabs, y_pred = yhat1, average = \"weighted\"))\n",
    "print(\"The L2 NMF with 3 categories had weighted average recall:\", recall_score(y_true = newlabs, y_pred = yhat1, average = \"weighted\"))"
   ]
  },
  {
   "cell_type": "markdown",
   "id": "068e2da2-1583-4252-a571-47c985e402a9",
   "metadata": {},
   "source": [
    "#### L2 Loss: 2 categories"
   ]
  },
  {
   "cell_type": "code",
   "execution_count": 88,
   "id": "16d91ba7-698b-4162-8f92-87d70d6092b5",
   "metadata": {},
   "outputs": [
    {
     "name": "stderr",
     "output_type": "stream",
     "text": [
      "C:\\Users\\first\\anaconda3\\lib\\site-packages\\sklearn\\decomposition\\_nmf.py:1090: ConvergenceWarning: Maximum number of iterations 1000 reached. Increase it to improve convergence.\n",
      "  warnings.warn(\"Maximum number of iterations %d reached. Increase it to\"\n"
     ]
    },
    {
     "name": "stdout",
     "output_type": "stream",
     "text": [
      "48.51993489265442\n"
     ]
    }
   ],
   "source": [
    "# Create NMF model on originals data. I will compare a few hyperparameter choices.\n",
    "nmf_model_2 = NMF(n_components = 2, beta_loss = \"frobenius\", init = 'nndsvd', solver = \"cd\", max_iter = 1000)\n",
    "startTime = time.time()\n",
    "W_2 = nmf_model_2.fit_transform(data)\n",
    "endTime = time.time()\n",
    "print(endTime - startTime)"
   ]
  },
  {
   "cell_type": "code",
   "execution_count": 173,
   "id": "9c757b3c-307e-4556-9771-6e03d2ebf864",
   "metadata": {},
   "outputs": [],
   "source": [
    "# Convert predictions into a form that sklearn will accept\n",
    "yhat2 = finalizePredictions(W_2)\n",
    "categoryNames = reconstructLabels(yhat2, labs2)\n",
    "\n",
    "newlabs = list()\n",
    "labelDictionary = {\n",
    "    categoryNames[0][0] : 0,\n",
    "    categoryNames[0][1] : 1\n",
    "}\n",
    "for label in labs2:\n",
    "    this_newlab = labelDictionary[label]\n",
    "    newlabs.append(this_newlab)\n",
    "newlabs = np.asarray(newlabs)"
   ]
  },
  {
   "cell_type": "code",
   "execution_count": 174,
   "id": "a613258c-1d04-4c59-82f9-048a1b8dc829",
   "metadata": {},
   "outputs": [
    {
     "name": "stdout",
     "output_type": "stream",
     "text": [
      "[[4131  142]\n",
      " [1515   68]]\n"
     ]
    }
   ],
   "source": [
    "# Print out confusion matrix\n",
    "print(confusion_matrix(y_true = newlabs, y_pred = yhat2))"
   ]
  },
  {
   "cell_type": "code",
   "execution_count": 175,
   "id": "950fbf96-3a9e-481e-abc5-8c837f457f9c",
   "metadata": {},
   "outputs": [
    {
     "name": "stdout",
     "output_type": "stream",
     "text": [
      "The L2 NMF with 2 categories had accuracy: 0.7170423497267759\n",
      "The L2 NMF with 2 categories had weighted average precision: 0.6214155927334378\n",
      "The L2 NMF with 2 categories had weighted average recall: 0.7170423497267759\n"
     ]
    }
   ],
   "source": [
    "# Compute accuracy, precision, and recall\n",
    "print(\"The L2 NMF with 2 categories had accuracy:\" , accuracy_score(y_true = newlabs, y_pred = yhat2))\n",
    "print(\"The L2 NMF with 2 categories had weighted average precision:\", precision_score(y_true = newlabs, y_pred = yhat2, average = \"weighted\"))\n",
    "print(\"The L2 NMF with 2 categories had weighted average recall:\", recall_score(y_true = newlabs, y_pred = yhat2, average = \"weighted\"))"
   ]
  },
  {
   "cell_type": "markdown",
   "id": "d39959cd-98d5-4449-8d2d-a7bff660671e",
   "metadata": {},
   "source": [
    "#### KL Loss: 3 categories"
   ]
  },
  {
   "cell_type": "code",
   "execution_count": 73,
   "id": "c4b4aa0c-d5c4-4cc7-9515-ad9dfddac40c",
   "metadata": {},
   "outputs": [
    {
     "name": "stderr",
     "output_type": "stream",
     "text": [
      "C:\\Users\\first\\anaconda3\\lib\\site-packages\\sklearn\\decomposition\\_nmf.py:1090: ConvergenceWarning: Maximum number of iterations 100 reached. Increase it to improve convergence.\n",
      "  warnings.warn(\"Maximum number of iterations %d reached. Increase it to\"\n"
     ]
    },
    {
     "name": "stdout",
     "output_type": "stream",
     "text": [
      "97.34066414833069\n"
     ]
    }
   ],
   "source": [
    "# Create NMF model on originals data. I will compare a few hyperparameter choices.\n",
    "nmf_model_3 = NMF(n_components = 3, beta_loss = \"kullback-leibler\", init = 'nndsvdar', solver = \"mu\", max_iter = 100)\n",
    "startTime = time.time()\n",
    "W_3 = nmf_model_3.fit_transform(data)\n",
    "endTime = time.time()\n",
    "print(endTime - startTime)"
   ]
  },
  {
   "cell_type": "code",
   "execution_count": 176,
   "id": "203709c0-9d25-40aa-8fe4-124ee867f740",
   "metadata": {},
   "outputs": [],
   "source": [
    "# Convert predictions into a form that sklearn will accept\n",
    "yhat3 = finalizePredictions(W_3)\n",
    "categoryNames = reconstructLabels(yhat3, labs)\n",
    "\n",
    "newlabs = list()\n",
    "labelDictionary = {\n",
    "    categoryNames[0][0] : 0,\n",
    "    categoryNames[0][1] : 1,\n",
    "    categoryNames[0][2] : 2\n",
    "}\n",
    "for label in labs:\n",
    "    this_newlab = labelDictionary[label]\n",
    "    newlabs.append(this_newlab)\n",
    "newlabs = np.asarray(newlabs)"
   ]
  },
  {
   "cell_type": "code",
   "execution_count": 177,
   "id": "41139eb1-8440-465e-80d8-c5d1df1b01c3",
   "metadata": {},
   "outputs": [
    {
     "name": "stdout",
     "output_type": "stream",
     "text": [
      "[[2645    2  133]\n",
      " [1560   15    8]\n",
      " [1457    2   34]]\n"
     ]
    }
   ],
   "source": [
    "# Print out confusion matrix\n",
    "print(confusion_matrix(y_true = newlabs, y_pred = yhat3))"
   ]
  },
  {
   "cell_type": "code",
   "execution_count": 178,
   "id": "ba29b761-aafa-4262-84a6-42f88cd93724",
   "metadata": {},
   "outputs": [
    {
     "name": "stdout",
     "output_type": "stream",
     "text": [
      "The KL NMF with 3 categories had accuracy: 0.4600409836065574\n",
      "The KL NMF with 3 categories had weighted average precision: 0.48471325021487593\n",
      "The KL NMF with 3 categories had weighted average recall: 0.4600409836065574\n"
     ]
    }
   ],
   "source": [
    "# Compute accuracy, precision, and recall\n",
    "print(\"The KL NMF with 3 categories had accuracy:\" , accuracy_score(y_true = newlabs, y_pred = yhat3))\n",
    "print(\"The KL NMF with 3 categories had weighted average precision:\", precision_score(y_true = newlabs, y_pred = yhat3, average = \"weighted\"))\n",
    "print(\"The KL NMF with 3 categories had weighted average recall:\", recall_score(y_true = newlabs, y_pred = yhat3, average = \"weighted\"))"
   ]
  },
  {
   "cell_type": "markdown",
   "id": "1444ec68-3de7-4cb1-8abb-790817e81964",
   "metadata": {},
   "source": [
    "#### KL Loss: 2 Categories"
   ]
  },
  {
   "cell_type": "code",
   "execution_count": 92,
   "id": "9ddb1816-98c6-4574-b1f7-6b4c21a4fc8f",
   "metadata": {},
   "outputs": [
    {
     "name": "stderr",
     "output_type": "stream",
     "text": [
      "C:\\Users\\first\\anaconda3\\lib\\site-packages\\sklearn\\decomposition\\_nmf.py:1090: ConvergenceWarning: Maximum number of iterations 100 reached. Increase it to improve convergence.\n",
      "  warnings.warn(\"Maximum number of iterations %d reached. Increase it to\"\n"
     ]
    },
    {
     "name": "stdout",
     "output_type": "stream",
     "text": [
      "98.88731551170349\n"
     ]
    }
   ],
   "source": [
    "# Create NMF model on originals data. I will compare a few hyperparameter choices.\n",
    "nmf_model_4 = NMF(n_components = 2, beta_loss = \"kullback-leibler\", init = 'nndsvdar', solver = \"mu\", max_iter = 100)\n",
    "startTime = time.time()\n",
    "W_4 = nmf_model_4.fit_transform(data)\n",
    "endTime = time.time()\n",
    "print(endTime - startTime)"
   ]
  },
  {
   "cell_type": "code",
   "execution_count": 179,
   "id": "b5b83178-95ab-43e1-ac82-be83c02c2285",
   "metadata": {},
   "outputs": [],
   "source": [
    "# Convert predictions into a form that sklearn will accept\n",
    "yhat4 = finalizePredictions(W_4)\n",
    "categoryNames = reconstructLabels(yhat4, labs2)\n",
    "\n",
    "newlabs = list()\n",
    "labelDictionary = {\n",
    "    categoryNames[0][0] : 0,\n",
    "    categoryNames[0][1] : 1\n",
    "}\n",
    "for label in labs2:\n",
    "    this_newlab = labelDictionary[label]\n",
    "    newlabs.append(this_newlab)\n",
    "newlabs = np.asarray(newlabs)"
   ]
  },
  {
   "cell_type": "code",
   "execution_count": 180,
   "id": "dc45fa1f-9843-4c1b-bedc-f6c871eda8f6",
   "metadata": {},
   "outputs": [
    {
     "name": "stdout",
     "output_type": "stream",
     "text": [
      "[[4210   63]\n",
      " [1564   19]]\n"
     ]
    }
   ],
   "source": [
    "# Print out confusion matrix\n",
    "print(confusion_matrix(y_true = newlabs, y_pred = yhat4))"
   ]
  },
  {
   "cell_type": "code",
   "execution_count": 181,
   "id": "2c696e32-de30-4933-adfd-9b0f405b7bca",
   "metadata": {},
   "outputs": [
    {
     "name": "stdout",
     "output_type": "stream",
     "text": [
      "The KL NMF with 2 categories had accuracy: 0.7221653005464481\n",
      "The KL NMF with 2 categories had weighted average precision: 0.5946666110429168\n",
      "The KL NMF with 2 categories had weighted average recall: 0.7221653005464481\n"
     ]
    }
   ],
   "source": [
    "# Compute accuracy, precision, and recall\n",
    "print(\"The KL NMF with 2 categories had accuracy:\" , accuracy_score(y_true = newlabs, y_pred = yhat4))\n",
    "print(\"The KL NMF with 2 categories had weighted average precision:\", precision_score(y_true = newlabs, y_pred = yhat4, average = \"weighted\"))\n",
    "print(\"The KL NMF with 2 categories had weighted average recall:\", recall_score(y_true = newlabs, y_pred = yhat4, average = \"weighted\"))"
   ]
  },
  {
   "cell_type": "markdown",
   "id": "8d8c07ac-ff76-4548-b4de-3511a075d741",
   "metadata": {},
   "source": [
    "#### Commentary:\n",
    "\n",
    "Wow those models sucked. Hopefully that isn't an indication of things to come. I had to limit the number of iterations the KL-solver to improve execution time so that we aren't waiting forever for convergance, but as a downside the models suffer. The unsupervised algorithm doesn't know that the three categories have different prevalence in the data, so we would expect an accuracy of $33\\%$ as baseline. At least the models picked up some disease!The KL model better accuracy and recall, but the L2-Loss outperformed the KL-Loss surprisingly on precision. \n",
    "\n",
    "One consideration is that the NMF is detecting stronger groupings than Normal / Virus / Bacteria. It may be detecting relative lung sizes (child / teen / adult), bone configurations, etc. Regardless, the NMF models are *marginally* useful at detecting pneumonia."
   ]
  },
  {
   "cell_type": "markdown",
   "id": "ec61f52a-ae6c-4413-b936-6b1303becd8e",
   "metadata": {},
   "source": [
    "## K-Means:"
   ]
  },
  {
   "cell_type": "markdown",
   "id": "95904061-5df3-4d1b-9681-77e85b763bc4",
   "metadata": {},
   "source": [
    "K-means is a great algorithm that is easily human-comprehensible. The idea is to place some number of clusters in the feature space, and iterate their position until they are as close to as many points as possible. We will specify there to be 3 centroids, for the same reason we factored the full data into $(n_{\\text{images}}, 3) \\times (3, n_{\\text{pixels}})$; we want the algorithm to realize that there are normal xrays, bacterial infected xrays, and viral infected xrays. We will likely run into the same problem as in NMF, where we end up identifying trends other than pneumonia status. I will try using the two different algorithms in sklearn: \"lloyd\" and \"elkan\" and compare results.\n",
    "\n",
    "#### Lloyd: 3 Categories"
   ]
  },
  {
   "cell_type": "code",
   "execution_count": 114,
   "id": "fc571286-36be-4bd7-8107-ccf43ddee055",
   "metadata": {},
   "outputs": [
    {
     "name": "stdout",
     "output_type": "stream",
     "text": [
      "1.8917148113250732\n"
     ]
    }
   ],
   "source": [
    "# Initialize Lloyd K-Means, and build predictions.\n",
    "lloyd = KMeans(n_clusters = 3, random_state = 42, max_iter = 100, algorithm = \"full\")\n",
    "startTime = time.time()\n",
    "lloydModel = lloyd.fit_transform(reducedData)\n",
    "endTime = time.time()\n",
    "print(endTime - startTime)"
   ]
  },
  {
   "cell_type": "code",
   "execution_count": 184,
   "id": "7f158bc2-4852-4faf-9bf6-67f263f48adb",
   "metadata": {},
   "outputs": [],
   "source": [
    "# Convert predictions into a form that sklearn will accept\n",
    "yhat5 = finalizePredictions(lloydModel)\n",
    "categoryNames = reconstructLabels(yhat5, labs)\n",
    "\n",
    "newlabs = list()\n",
    "labelDictionary = {\n",
    "    categoryNames[0][0] : 0,\n",
    "    categoryNames[0][1] : 1,\n",
    "    categoryNames[0][2] : 2\n",
    "}\n",
    "for label in labs:\n",
    "    this_newlab = labelDictionary[label]\n",
    "    newlabs.append(this_newlab)\n",
    "newlabs = np.asarray(newlabs)"
   ]
  },
  {
   "cell_type": "code",
   "execution_count": 185,
   "id": "0811b46a-7ac5-42cb-a8fa-10375100987c",
   "metadata": {},
   "outputs": [
    {
     "name": "stdout",
     "output_type": "stream",
     "text": [
      "[[1488 1260   32]\n",
      " [ 671  906    6]\n",
      " [ 626  850   17]]\n"
     ]
    }
   ],
   "source": [
    "# Print out confusion matrix\n",
    "print(confusion_matrix(y_true = newlabs, y_pred = yhat5))"
   ]
  },
  {
   "cell_type": "code",
   "execution_count": 186,
   "id": "a5285648-f9a3-4b42-9f23-5db264024c4a",
   "metadata": {},
   "outputs": [
    {
     "name": "stdout",
     "output_type": "stream",
     "text": [
      "The Lloyd KMeans with 3 categories had accuracy: 0.41171448087431695\n",
      "The Lloyd KMeans with 3 categories had weighted average precision: 0.41364943884947114\n",
      "The Lloyd KMeans with 3 categories had weighted average recall: 0.41171448087431695\n"
     ]
    }
   ],
   "source": [
    "# Compute accuracy, precision, and recall\n",
    "print(\"The Lloyd KMeans with 3 categories had accuracy:\" , accuracy_score(y_true = newlabs, y_pred = yhat5))\n",
    "print(\"The Lloyd KMeans with 3 categories had weighted average precision:\", precision_score(y_true = newlabs, y_pred = yhat5, average = \"weighted\"))\n",
    "print(\"The Lloyd KMeans with 3 categories had weighted average recall:\", recall_score(y_true = newlabs, y_pred = yhat5, average = \"weighted\"))"
   ]
  },
  {
   "cell_type": "markdown",
   "id": "60dbddd5-cc4a-4831-b1c2-b886f6a6986e",
   "metadata": {},
   "source": [
    "#### Lloyd: 2 Categories"
   ]
  },
  {
   "cell_type": "code",
   "execution_count": 100,
   "id": "403260f4-e3d6-44f8-8ad8-3fdbec79ed8b",
   "metadata": {},
   "outputs": [
    {
     "name": "stdout",
     "output_type": "stream",
     "text": [
      "1.223311424255371\n"
     ]
    }
   ],
   "source": [
    "# Initialize Lloyd K-Means, and build predictions.\n",
    "lloyd2 = KMeans(n_clusters = 2, random_state = 42, max_iter = 100, algorithm = \"full\")\n",
    "startTime = time.time()\n",
    "lloydModel2 = lloyd2.fit_transform(reducedData)\n",
    "endTime = time.time()\n",
    "print(endTime - startTime)"
   ]
  },
  {
   "cell_type": "code",
   "execution_count": 187,
   "id": "4a6cc5c7-140e-4088-ab07-f7f4ccd5dafc",
   "metadata": {},
   "outputs": [],
   "source": [
    "# Convert predictions into a form that sklearn will accept\n",
    "yhat6 = finalizePredictions(lloydModel2)\n",
    "categoryNames = reconstructLabels(yhat6, labs2)\n",
    "\n",
    "newlabs = list()\n",
    "labelDictionary = {\n",
    "    categoryNames[0][0] : 0,\n",
    "    categoryNames[0][1] : 1\n",
    "}\n",
    "for label in labs2:\n",
    "    this_newlab = labelDictionary[label]\n",
    "    newlabs.append(this_newlab)\n",
    "newlabs = np.asarray(newlabs)"
   ]
  },
  {
   "cell_type": "code",
   "execution_count": 188,
   "id": "1a8603ee-e95f-4ce4-8d75-d17af36b3031",
   "metadata": {},
   "outputs": [
    {
     "name": "stdout",
     "output_type": "stream",
     "text": [
      "[[ 825  758]\n",
      " [2006 2267]]\n"
     ]
    }
   ],
   "source": [
    "# Print out confusion matrix\n",
    "print(confusion_matrix(y_true = newlabs, y_pred = yhat6))"
   ]
  },
  {
   "cell_type": "code",
   "execution_count": 189,
   "id": "0d9874fa-316e-4ffd-8338-6337a8741c31",
   "metadata": {},
   "outputs": [
    {
     "name": "stdout",
     "output_type": "stream",
     "text": [
      "The Lloyd KMeans with 2 categories had accuracy: 0.5280054644808743\n",
      "The Lloyd KMeans with 2 categories had weighted average precision: 0.6256130931833802\n",
      "The Lloyd KMeans with 2 categories had weighted average recall: 0.5280054644808743\n"
     ]
    }
   ],
   "source": [
    "# Compute accuracy, precision, and recall\n",
    "print(\"The Lloyd KMeans with 2 categories had accuracy:\" , accuracy_score(y_true = newlabs, y_pred = yhat6))\n",
    "print(\"The Lloyd KMeans with 2 categories had weighted average precision:\", precision_score(y_true = newlabs, y_pred = yhat6, average = \"weighted\"))\n",
    "print(\"The Lloyd KMeans with 2 categories had weighted average recall:\", recall_score(y_true = newlabs, y_pred = yhat6, average = \"weighted\"))"
   ]
  },
  {
   "cell_type": "markdown",
   "id": "274cf1d8-4afb-4de7-b145-f7e0decd910b",
   "metadata": {},
   "source": [
    "#### Elkan: 3 Categories"
   ]
  },
  {
   "cell_type": "code",
   "execution_count": 118,
   "id": "c6acd9ef-1ea3-4484-821e-447198e931c0",
   "metadata": {},
   "outputs": [
    {
     "name": "stdout",
     "output_type": "stream",
     "text": [
      "1.3580563068389893\n"
     ]
    }
   ],
   "source": [
    "# Initialize Elkan K-Means, and build predictions.\n",
    "elkan = KMeans(n_clusters = 3, random_state = 42, max_iter = 1000, algorithm = \"elkan\")\n",
    "startTime = time.time()\n",
    "elkanModel = elkan.fit_transform(reducedData)\n",
    "endTime = time.time()\n",
    "print(endTime - startTime)"
   ]
  },
  {
   "cell_type": "code",
   "execution_count": 190,
   "id": "c24cb2e7-547d-48b8-8a50-9b193b6a1a19",
   "metadata": {},
   "outputs": [],
   "source": [
    "# Convert predictions into a form that sklearn will accept\n",
    "yhat7 = finalizePredictions(elkanModel)\n",
    "categoryNames = reconstructLabels(yhat7, labs)\n",
    "\n",
    "newlabs = list()\n",
    "labelDictionary = {\n",
    "    categoryNames[0][0] : 0,\n",
    "    categoryNames[0][1] : 1,\n",
    "    categoryNames[0][2] : 2\n",
    "}\n",
    "for label in labs:\n",
    "    this_newlab = labelDictionary[label]\n",
    "    newlabs.append(this_newlab)\n",
    "newlabs = np.asarray(newlabs)"
   ]
  },
  {
   "cell_type": "code",
   "execution_count": 191,
   "id": "e6ff6df4-4946-441c-8b4d-2bde154de661",
   "metadata": {},
   "outputs": [
    {
     "name": "stdout",
     "output_type": "stream",
     "text": [
      "[[1488 1260   32]\n",
      " [ 671  906    6]\n",
      " [ 626  850   17]]\n"
     ]
    }
   ],
   "source": [
    "# Print out confusion matrix\n",
    "print(confusion_matrix(y_true = newlabs, y_pred = yhat7))"
   ]
  },
  {
   "cell_type": "code",
   "execution_count": 192,
   "id": "be781966-1374-4e61-a2e6-475c25fae15e",
   "metadata": {},
   "outputs": [
    {
     "name": "stdout",
     "output_type": "stream",
     "text": [
      "The Elkan KMeans with 3 categories had accuracy: 0.41171448087431695\n",
      "The Elkan KMeans with 3 categories had weighted average precision: 0.41364943884947114\n",
      "The Elkan KMeans with 3 categories had weighted average recall: 0.41171448087431695\n"
     ]
    }
   ],
   "source": [
    "# Compute accuracy, precision, and recall\n",
    "print(\"The Elkan KMeans with 3 categories had accuracy:\" , accuracy_score(y_true = newlabs, y_pred = yhat7))\n",
    "print(\"The Elkan KMeans with 3 categories had weighted average precision:\", precision_score(y_true = newlabs, y_pred = yhat7, average = \"weighted\"))\n",
    "print(\"The Elkan KMeans with 3 categories had weighted average recall:\", recall_score(y_true = newlabs, y_pred = yhat7, average = \"weighted\"))"
   ]
  },
  {
   "cell_type": "markdown",
   "id": "a5889127-892e-44c9-8e82-833a6e017c50",
   "metadata": {},
   "source": [
    "#### Elkan: 2 Categories"
   ]
  },
  {
   "cell_type": "code",
   "execution_count": 110,
   "id": "392f2bb4-3be0-46b9-aa6e-cfa75bff8432",
   "metadata": {},
   "outputs": [
    {
     "name": "stdout",
     "output_type": "stream",
     "text": [
      "0.8896005153656006\n"
     ]
    }
   ],
   "source": [
    "# Initialize Elkan K-Means, and build predictions.\n",
    "elkan2 = KMeans(n_clusters = 2, random_state = 42, max_iter = 1000, algorithm = \"elkan\")\n",
    "startTime = time.time()\n",
    "elkanModel2 = elkan2.fit_transform(reducedData)\n",
    "endTime = time.time()\n",
    "print(endTime - startTime)"
   ]
  },
  {
   "cell_type": "code",
   "execution_count": 193,
   "id": "ffdec20a-aabf-4593-8e33-0fae9f122bbc",
   "metadata": {},
   "outputs": [],
   "source": [
    "# Convert predictions into a form that sklearn will accept\n",
    "yhat8 = finalizePredictions(elkanModel2)\n",
    "categoryNames = reconstructLabels(yhat8, labs2)\n",
    "\n",
    "newlabs = list()\n",
    "labelDictionary = {\n",
    "    categoryNames[0][0] : 0,\n",
    "    categoryNames[0][1] : 1\n",
    "}\n",
    "for label in labs2:\n",
    "    this_newlab = labelDictionary[label]\n",
    "    newlabs.append(this_newlab)\n",
    "newlabs = np.asarray(newlabs)"
   ]
  },
  {
   "cell_type": "code",
   "execution_count": 194,
   "id": "dd23e46a-f5bf-494e-81ac-a8cb0e617548",
   "metadata": {},
   "outputs": [
    {
     "name": "stdout",
     "output_type": "stream",
     "text": [
      "[[ 825  758]\n",
      " [2006 2267]]\n"
     ]
    }
   ],
   "source": [
    "# Print out confusion matrix\n",
    "print(confusion_matrix(y_true = newlabs, y_pred = yhat8))"
   ]
  },
  {
   "cell_type": "code",
   "execution_count": 195,
   "id": "cfa0b55c-a891-401a-b3e8-6adca80fbd40",
   "metadata": {},
   "outputs": [
    {
     "name": "stdout",
     "output_type": "stream",
     "text": [
      "The Elkan KMeans with 2 categories had accuracy: 0.5280054644808743\n",
      "The Elkan KMeans with 2 categories had weighted average precision: 0.6256130931833802\n",
      "The Elkan KMeans with 2 categories had weighted average recall: 0.5280054644808743\n"
     ]
    }
   ],
   "source": [
    "# Compute accuracy, precision, and recall\n",
    "print(\"The Elkan KMeans with 2 categories had accuracy:\" , accuracy_score(y_true = newlabs, y_pred = yhat8))\n",
    "print(\"The Elkan KMeans with 2 categories had weighted average precision:\", precision_score(y_true = newlabs, y_pred = yhat8, average = \"weighted\"))\n",
    "print(\"The Elkan KMeans with 2 categories had weighted average recall:\", recall_score(y_true = newlabs, y_pred = yhat8, average = \"weighted\"))"
   ]
  },
  {
   "cell_type": "markdown",
   "id": "50c979de-3da5-406c-a905-71923d5a235d",
   "metadata": {},
   "source": [
    "### Commentary:\n",
    "\n",
    "My suspiscion that we are categorizing something other than disease is increasing. The confusion matricies between the elkan and lloyd algorithms are essentially identical, which means that there are real categories that KMeans has discovered that are present in the chest X-Rays. My best guesses are patient size, shape, bone structure, race, etc. We would need to use these labels on a bunch of different labelled training data to figure out what the clusters represent. I suppose that's why we consider the point of Unsupervised Learning to find hidden trends that the data analyst didn't expect! That said, the models do have some predictive power over pneumonia, so whatever clusters are being discovered are at least correlated with pneumonia (or likeliness to develop pnuemonia).\n",
    "\n",
    "# (4) Compare against a supervised model:\n",
    "\n",
    "I'll use the training data (rows 0 through 5231) to try to predict the labels of the test data (the rest of the rows). It is fair to use the PCA transformed reduced-data, because the PCA did not know the labels of the data during transformation. As such the reducedData does not have any additional predictive power over the initial data, it just runs faster. In fact it will be on average worse, because we only account choose to account for 0.98 of the variance across all images. I will use a Random Forest for speed and accuracy. Please adjust n_jobs to allow for execution on your machine.\n",
    "\n",
    "#### 3 Categories:"
   ]
  },
  {
   "cell_type": "code",
   "execution_count": 222,
   "id": "c14073cd-cdff-4b05-b1dd-7ef9d41a9223",
   "metadata": {},
   "outputs": [
    {
     "name": "stdout",
     "output_type": "stream",
     "text": [
      "296.18887090682983\n"
     ]
    }
   ],
   "source": [
    "n_train = 5232\n",
    "startTime = time.time()\n",
    "forest = RandomForestClassifier(n_estimators = 10000, random_state = 42, n_jobs = 14).fit(reducedData[:5232, :], labs[:5232])\n",
    "endTime = time.time()\n",
    "print(endTime - startTime)\n",
    "yhat9 = forest.predict(reducedData[5232: , :])"
   ]
  },
  {
   "cell_type": "code",
   "execution_count": 223,
   "id": "a6a42a36-8249-438d-9c17-cfa69f1d3ae0",
   "metadata": {},
   "outputs": [
    {
     "name": "stdout",
     "output_type": "stream",
     "text": [
      "[[234   8   0]\n",
      " [119 115   0]\n",
      " [130  12   6]]\n"
     ]
    }
   ],
   "source": [
    "print(confusion_matrix(y_true = labs[5232: ], y_pred = yhat9))"
   ]
  },
  {
   "cell_type": "code",
   "execution_count": 224,
   "id": "a5ce4fcb-1e35-4d44-bb1c-ab8f5d829b15",
   "metadata": {},
   "outputs": [
    {
     "name": "stdout",
     "output_type": "stream",
     "text": [
      "The Random Forest with 3 categories had accuracy: 0.5689102564102564\n",
      "The Random Forest with 3 categories had weighted average precision: 0.7445121303816956\n",
      "The Random Forest with 3 categories had weighted average recall: 0.5689102564102564\n"
     ]
    }
   ],
   "source": [
    "# Compute accuracy, precision, and recall\n",
    "print(\"The Random Forest with 3 categories had accuracy:\" , accuracy_score(y_true = labs[5232: ], y_pred = yhat9))\n",
    "print(\"The Random Forest with 3 categories had weighted average precision:\", precision_score(y_true = labs[5232: ], y_pred = yhat9, average = \"weighted\"))\n",
    "print(\"The Random Forest with 3 categories had weighted average recall:\", recall_score(y_true = labs[5232: ], y_pred = yhat9, average = \"weighted\"))"
   ]
  },
  {
   "cell_type": "code",
   "execution_count": 228,
   "id": "bf64ab20-c32b-4bed-b5b2-235de7a98888",
   "metadata": {},
   "outputs": [
    {
     "name": "stdout",
     "output_type": "stream",
     "text": [
      "266.91250491142273\n"
     ]
    }
   ],
   "source": [
    "#### 2 Categories:\n",
    "startTime = time.time()\n",
    "forest = RandomForestClassifier(n_estimators = 10000, random_state = 42, n_jobs = 14).fit(reducedData[:5232, :], labs2[:5232])\n",
    "endTime = time.time()\n",
    "print(endTime - startTime)\n",
    "yhat10 = forest.predict(reducedData[5232: , :])"
   ]
  },
  {
   "cell_type": "code",
   "execution_count": 229,
   "id": "cfeacacc-ebe5-4091-88bc-befab1cabc2b",
   "metadata": {},
   "outputs": [
    {
     "name": "stdout",
     "output_type": "stream",
     "text": [
      "[[384   6]\n",
      " [197  37]]\n"
     ]
    }
   ],
   "source": [
    "print(confusion_matrix(y_true = labs2[5232: ], y_pred = yhat10))"
   ]
  },
  {
   "cell_type": "code",
   "execution_count": 231,
   "id": "480b1092-b189-4df7-a34a-0cba1e6cdb90",
   "metadata": {},
   "outputs": [
    {
     "name": "stdout",
     "output_type": "stream",
     "text": [
      "The Random Forest with 2 categories had accuracy: 0.6746794871794872\n",
      "The Random Forest with 2 categories had weighted average precision: 0.7357553136132571\n",
      "The Random Forest with 2 categories had weighted average recall: 0.6746794871794872\n"
     ]
    }
   ],
   "source": [
    "# Compute accuracy, precision, and recall\n",
    "print(\"The Random Forest with 2 categories had accuracy:\" , accuracy_score(y_true = labs2[5232: ], y_pred = yhat10))\n",
    "print(\"The Random Forest with 2 categories had weighted average precision:\", precision_score(y_true = labs2[5232: ], y_pred = yhat10, average = \"weighted\"))\n",
    "print(\"The Random Forest with 2 categories had weighted average recall:\", recall_score(y_true = labs2[5232: ], y_pred = yhat10, average = \"weighted\"))"
   ]
  },
  {
   "cell_type": "markdown",
   "id": "2253276e-d1d5-478b-a40f-6552e758fcf8",
   "metadata": {},
   "source": [
    "# 5: Conclusion, Discussion, and Results Summary Table\n",
    "\n",
    "By now it seems that the unsupervised models were seeing something it considered more prominent than infected vs. non infected lungs in the chest X-Rays. To determine whether the clusters are similar, let's compare them! I'll make a cosine-similarity matrix using sklearn, then map the domain of values to $[0, 1]$ using the following formula presented in class:\n",
    "\n",
    "$$ \\text{sim}(\\vec{y_1}, \\vec{y_2}) = 0.5 + 0.5 * \\text{Pearson}(\\vec{y_1}, \\vec{y_2})$$"
   ]
  },
  {
   "cell_type": "code",
   "execution_count": 259,
   "id": "f9402d84-8ac2-4b3e-8fac-e3b61cb29d6f",
   "metadata": {},
   "outputs": [
    {
     "name": "stdout",
     "output_type": "stream",
     "text": [
      "[[1.         0.67596578 0.79319435 0.79319435]\n",
      " [0.67596578 1.         0.58784885 0.58784885]\n",
      " [0.79319435 0.58784885 1.         1.        ]\n",
      " [0.79319435 0.58784885 1.         1.        ]]\n"
     ]
    }
   ],
   "source": [
    "# Correlation matrix to compare similarity over predictions for 3 category models\n",
    "yhatAll3Categories = np.vstack((\n",
    "    yhat1.reshape(1, yhat1.shape[0]),\n",
    "    yhat3.reshape(1, yhat3.shape[0]),\n",
    "    yhat5.reshape(1, yhat5.shape[0]),\n",
    "    yhat7.reshape(1, yhat7.shape[0]))\n",
    ")\n",
    "\n",
    "cosineMatrix = cosine_similarity(yhatAll3Categories)\n",
    "print(.5 + .5 * cosineMatrix)"
   ]
  },
  {
   "cell_type": "markdown",
   "id": "e8b59b64-465f-4534-9bd0-89f3cee64fbf",
   "metadata": {},
   "source": [
    "We would expect a similarity metric of $0.333$ if there was no correlation between any two clusters because there are three categories. The correlations are much higher than that; all models had something in common. As such we might think to bag the models and use the consensus opinion. Because models 5 and 7 had a perfect correlation (the K-Means models), we need to exlude one for the bagging to work. Let's try that and see how that affects accuracy:"
   ]
  },
  {
   "cell_type": "code",
   "execution_count": 280,
   "id": "cf7f9663-9b83-4b7d-92b3-810febb9d98a",
   "metadata": {},
   "outputs": [],
   "source": [
    "# Take out perfectly correlated prediction yhat7\n",
    "yhatMost3Categories = np.vstack((\n",
    "    yhat1.reshape(1, yhat1.shape[0]),\n",
    "    yhat3.reshape(1, yhat3.shape[0]),\n",
    "    yhat5.reshape(1, yhat5.shape[0])\n",
    "))\n",
    "\n",
    "def majorityRule3(predictionMatrix):\n",
    "    \"\"\"\n",
    "        input: np.ndarray predictionMatrix of shape (n_models, n_images)\n",
    "        output: np.ndarray baggedPred of shape (n_images, )\n",
    "    \"\"\"\n",
    "    # The algorithm we will use is to pick the mode if possible, then break ties randomly.    baggedPred = np.zeros(predictionMatrix.shape[1]).astype(int)\n",
    "    #Populate baggedPred\n",
    "    for j in range(predictionMatrix.shape[1]):\n",
    "        counts = {\n",
    "            0: 0,\n",
    "            1: 0,\n",
    "            2: 0\n",
    "        }\n",
    "        #Populate counts\n",
    "        for i in range(predictionMatrix.shape[0]):\n",
    "            this_prediction = predictionMatrix[i, j]\n",
    "            counts.update({this_prediction : counts[this_prediction] + 1})\n",
    "        #Determine the winner\n",
    "        if counts[0] > counts[1] and counts[0] > counts[2]:\n",
    "            baggedPred[j] = 0\n",
    "        elif counts[1] > counts[0] and counts[1] > counts[2]:\n",
    "            baggedPred[j] = 1\n",
    "        elif counts[2] > counts[0] and counts[2] > counts[1]:\n",
    "            baggedPred[j] = 2\n",
    "        else: # Break ties randomly\n",
    "            tieBreaker = random.random()\n",
    "            # There are three rows, so there can be a three way tie. We will flip a coin to pick the winner.\n",
    "            if counts[0] == counts[1] and counts[0] > counts[2]:\n",
    "                assert counts[1] > counts[2]\n",
    "                if tieBreaker < .5:\n",
    "                    baggedPred[j] = 0\n",
    "                else:\n",
    "                    baggedPred[j] = 1\n",
    "            elif counts[0] == counts[2] and counts[0] > counts[1]:\n",
    "                assert counts[2] > counts[1]\n",
    "                if tieBreaker < .5:\n",
    "                    baggedPred[j] = 0\n",
    "                else:\n",
    "                    baggedPred[j] = 2\n",
    "            elif counts[1] == counts[2] and counts[1] > counts[0]:\n",
    "                assert counts[2] > counts[0]\n",
    "                if tieBreaker < .5:\n",
    "                    baggedPred[j] = 1\n",
    "                else:\n",
    "                    baggedPred[j] = 2\n",
    "            else:\n",
    "                # 3 Way Tie\n",
    "                assert counts[1] == counts[2] and counts[2] == counts[0]\n",
    "                if tieBreaker < 1/3:\n",
    "                    baggedPred[j] = 0\n",
    "                elif tieBreaker < 2/3:\n",
    "                    baggedPred[j] = 1\n",
    "                else:\n",
    "                    baggedPred[j] = 2\n",
    "\n",
    "    return(baggedPred)"
   ]
  },
  {
   "cell_type": "code",
   "execution_count": 279,
   "id": "5a9a369f-5c81-4083-a03c-07db7bee9460",
   "metadata": {},
   "outputs": [
    {
     "name": "stdout",
     "output_type": "stream",
     "text": [
      "[[2215  245  320]\n",
      " [1202  338   43]\n",
      " [1259  118  116]]\n",
      "The Bagged Model with 3 categories had accuracy: 0.4557718579234973\n",
      "The Bagged Model with 3 categories had weighted average precision: 0.41695823951619526\n",
      "The Bagged Model with 3 categories had weighted average recall: 0.4557718579234973\n"
     ]
    }
   ],
   "source": [
    "# Get Bagged Predictions\n",
    "yhatBagged3 = majorityRule3(yhatMost3Categories)\n",
    "\n",
    "# Convert Labels to a form sklearn will like\n",
    "categoryNames = reconstructLabels(yhatBagged3, labs)\n",
    "newlabs = list()\n",
    "labelDictionary = {\n",
    "    categoryNames[0][0] : 0,\n",
    "    categoryNames[0][1] : 1,\n",
    "    categoryNames[0][2] : 2\n",
    "}\n",
    "for label in labs:\n",
    "    this_newlab = labelDictionary[label]\n",
    "    newlabs.append(this_newlab)\n",
    "newlabs = np.asarray(newlabs)\n",
    "\n",
    "# Print confusion matrix\n",
    "print(confusion_matrix(y_true = newlabs, y_pred = yhatBagged3))\n",
    "\n",
    "# Compute accuracy, precision, and recall\n",
    "print(\"The Bagged Model with 3 categories had accuracy:\" , accuracy_score(y_true = newlabs, y_pred = yhatBagged3))\n",
    "print(\"The Bagged Model with 3 categories had weighted average precision:\", precision_score(y_true = newlabs, y_pred = yhatBagged3, average = \"weighted\"))\n",
    "print(\"The Bagged Model with 3 categories had weighted average recall:\", recall_score(y_true = newlabs, y_pred = yhatBagged3, average = \"weighted\"))"
   ]
  },
  {
   "cell_type": "markdown",
   "id": "95adcc23-c496-45c7-a7c0-b49cad77e256",
   "metadata": {},
   "source": [
    "In the bagged model, the metrics went up a little bit compared to the L2-Loss NMF and the K-Means models, but were still worse than the KL-Loss NMF. It seems that the L2-Loss NMF and K-Means models saw some consistently different clusters in the data than pneumonia status, whereas KL-Loss NMF saw more pneumonia. As such the bagged model destructively interferes with itself, losing a little in metrics. \n",
    "\n",
    "It is worth noting that the supervised model (which is the gold standard in predicting labels) had a pretty poor performance too, even though I gave it a VERY long time to train. The L2-Loss NMF and K2-Loss NMF both beat the Random Forest for 2 Category classification in accuracy and recall! That said, they both performed quite a bit worse in precision. The bad performance of all models shows a couple truths: (1) There is inherent difficulty in detecting pneumonia in X-Rays. I guess that's why people need medical degrees to do it for a living! (2) 5000 images is not enough to teach a machine how to read a chest X-Ray for pneumonia. I'd like to repeat the project with an extra order of magnitude of data.\n",
    "\n",
    "#### Here's my results summary for the 3 Category Models:"
   ]
  },
  {
   "cell_type": "markdown",
   "id": "ee7f4dab-bca8-43bb-ada0-ed64c577e25b",
   "metadata": {},
   "source": [
    "| 3 Categories  | Accuracy | Precision | Recall |\n",
    "|---------------|----------|-----------|--------|\n",
    "| L2-Loss NMF   | 0.4151   | 0.4667    | 0.4151 |\n",
    "| KL-Loss NMF   | 0.4600   | 0.4847    | 0.4600 |\n",
    "| Lloyd KMeans  | 0.4136   | 0.4136    | 0.4117 |\n",
    "| Elkan KMeans  | 0.4117   | 0.4136    | 0.4117 |\n",
    "| Bagged        | 0.4558   | 0.4170    | 0.4558 |\n",
    "| Random Forest | 0.5689   | 0.7445    | 0.5689 |"
   ]
  },
  {
   "cell_type": "markdown",
   "id": "5028ad0e-ecff-452c-a342-5f92f9bd949a",
   "metadata": {},
   "source": [
    "#### Here's my results summary for the 2 Category Models:\n",
    "\n",
    "| 2 Categories  | Accuracy | Precision | Recall |\n",
    "|---------------|----------|-----------|--------|\n",
    "| L2-Loss NMF   | 0.7170   | 0.6214    | 0.7170 |\n",
    "| KL-Loss NMF   | 0.7222   | 0.5947    | 0.7222 |\n",
    "| Lloyd KMeans  | 0.5280   | 0.6256    | 0.5280 |\n",
    "| Elkan KMeans  | 0.5280   | 0.6256    | 0.5280 |\n",
    "| Random Forest | 0.6746   | 0.7358    | 0.6747 |"
   ]
  },
  {
   "cell_type": "markdown",
   "id": "3741a507-0c9f-45b5-a628-6758cfe414fe",
   "metadata": {},
   "source": [
    "A good way to try and improve the unsupervised models would be to isolate the lungs away from the rest of the body in the X-Rays before feeding the data into the models. I'm not sure how I would go about doing this; I might need yet another layer of supervised models that know lungs apart from the rest of the body. I think that would be a good master's thesis-level project.\n",
    "\n",
    "In this project I practiced importing, cleaning, and reducing image data. I played with 8 unsupervised learning models, and built custom functions to reconstruct labels and try to figure out what the algorithms were seeing. The algorithms had consistent clusterings as is evidenced by the similarity matrix earlier in this section. I wonder what they were seeing if not pneumonia. Sex? Bone damage? Age groups? There are really any number of human comprehensible clustering options, and even more non-human comprehensible ones. There is no guarentee that the unsupervised models are going to do what you expect - I suppose that's the primary take away from this project. Unsupervised models are designed to find trends that a data analyst wouldn't. It is then the data analyst's job to figure out what the groupings are post-defacto. "
   ]
  },
  {
   "cell_type": "markdown",
   "id": "688936f1-7435-4aff-8d0b-dcc91b96e0f5",
   "metadata": {},
   "source": [
    "# Bibliography\n",
    "\n",
    "1) [Data repository](https://data.mendeley.com/datasets/rscbjbr9sj/3)\n",
    "\n",
    "2) [Past Research on Subject](https://www.cell.com/cell/fulltext/S0092-8674(18)30154-5)\n",
    "\n",
    "3) Requested Citation: Kermany, Daniel; Zhang, Kang; Goldbaum, Michael (2018), “Large Dataset of Labeled Optical Coherence Tomography (OCT) and Chest X-Ray Images”, Mendeley Data, V3, doi: 10.17632/rscbjbr9sj.3\n",
    "\n",
    "4) [Usage of cv2](https://www.geeksforgeeks.org/python-opencv-cv2-imshow-method/)\n",
    "\n"
   ]
  }
 ],
 "metadata": {
  "kernelspec": {
   "display_name": "Python 3 (ipykernel)",
   "language": "python",
   "name": "python3"
  },
  "language_info": {
   "codemirror_mode": {
    "name": "ipython",
    "version": 3
   },
   "file_extension": ".py",
   "mimetype": "text/x-python",
   "name": "python",
   "nbconvert_exporter": "python",
   "pygments_lexer": "ipython3",
   "version": "3.10.9"
  }
 },
 "nbformat": 4,
 "nbformat_minor": 5
}
